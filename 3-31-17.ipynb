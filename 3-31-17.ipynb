{
 "cells": [
  {
   "cell_type": "code",
   "execution_count": 1,
   "metadata": {
    "collapsed": false,
    "deletable": true,
    "editable": true
   },
   "outputs": [
    {
     "name": "stdout",
     "output_type": "stream",
     "text": [
      "Populating the interactive namespace from numpy and matplotlib\n"
     ]
    }
   ],
   "source": [
    "%pylab inline\n",
    "import pandas as pd"
   ]
  },
  {
   "cell_type": "markdown",
   "metadata": {
    "deletable": true,
    "editable": true
   },
   "source": [
    "> On a lovely spring day, you and I agree to meet for a lunch picnic at the fountain in the center of our favorite park. We agree that we’ll each arrive sometime from noon and 1 p.m., and that whoever arrives first will wait up to 15 minutes for the other. If the other person doesn’t show by then, the first person will abandon the plans and spend the day with a more punctual friend. If we both arrive at the fountain at an independently random time between noon and 1, what are the chances our picnic actually happens?\n",
    "\n",
    "[(via)](https://fivethirtyeight.com/features/what-are-the-chances-well-meet-for-lunch/)\n",
    "\n",
    "First, let's generate some times. Of course, time is continuous, but let's make a rough approximation by listing every minute between 12pm and 1pm."
   ]
  },
  {
   "cell_type": "code",
   "execution_count": 64,
   "metadata": {
    "collapsed": false,
    "deletable": true,
    "editable": true
   },
   "outputs": [],
   "source": [
    "times = pd.date_range('12:00pm', '1:00pm', freq='T')"
   ]
  },
  {
   "cell_type": "markdown",
   "metadata": {
    "deletable": true,
    "editable": true
   },
   "source": [
    "Now, if I show up at some time, there are a range of times at which *you* could show up that would result in the picnic occuring. Let's write a method to find those times."
   ]
  },
  {
   "cell_type": "code",
   "execution_count": 65,
   "metadata": {
    "collapsed": false,
    "deletable": true,
    "editable": true
   },
   "outputs": [
    {
     "data": {
      "text/plain": [
       "(15, 2)"
      ]
     },
     "execution_count": 65,
     "metadata": {},
     "output_type": "execute_result"
    }
   ],
   "source": [
    "def possible_picnic_times (my_show_up_time_i): \n",
    "    return times[my_show_up_time_i:my_show_up_time_i+15]\n",
    "\n",
    "len(possible_picnic_times(0)), len(possible_picnic_times(59))"
   ]
  },
  {
   "cell_type": "markdown",
   "metadata": {
    "deletable": true,
    "editable": true
   },
   "source": [
    "Given two, independent show-up times, we can compute whether or not there will be a succesful picnic."
   ]
  },
  {
   "cell_type": "code",
   "execution_count": 66,
   "metadata": {
    "collapsed": false,
    "deletable": true,
    "editable": true
   },
   "outputs": [
    {
     "data": {
      "text/plain": [
       "(True, False, False)"
      ]
     },
     "execution_count": 66,
     "metadata": {},
     "output_type": "execute_result"
    }
   ],
   "source": [
    "def does_picnic_occur (my_show_up_time_i, your_show_up_time_i):\n",
    "    my_park_times   = possible_picnic_times(my_show_up_time_i)\n",
    "    your_park_times = possible_picnic_times(your_show_up_time_i)\n",
    "    return bool(set(my_park_times) & set(your_park_times))\n",
    "    \n",
    "does_picnic_occur(0, 5),  does_picnic_occur(0, 16), does_picnic_occur(59, 0),"
   ]
  },
  {
   "cell_type": "markdown",
   "metadata": {
    "deletable": true,
    "editable": true
   },
   "source": [
    "Since our show-up times are independent, and randomly distributed throughout the interval, we can generate each possible show-up time for both you and I. Then, we can run through each of our possible joint show up times, and see if a picnic occurs. Finally, we will see what proportion of possible picnics indeed occur."
   ]
  },
  {
   "cell_type": "code",
   "execution_count": 67,
   "metadata": {
    "collapsed": false,
    "deletable": true,
    "editable": true
   },
   "outputs": [
    {
     "data": {
      "text/plain": [
       "0.4344262295081967"
      ]
     },
     "execution_count": 67,
     "metadata": {},
     "output_type": "execute_result"
    }
   ],
   "source": [
    "from itertools import combinations_with_replacement as combos\n",
    "individual_show_up_times = range(0, 60)\n",
    "joint_show_up_times      = list(combos(individual_show_up_times, 2))\n",
    "picnic_outcomes          = [does_picnic_occur(mine, yours) \n",
    "                            for mine, yours in joint_show_up_times]\n",
    "true = lambda x: x==True\n",
    "picnics_that_happen = list(filter(true, picnic_outcomes))\n",
    "len(picnics_that_happen)/len(picnic_outcomes)"
   ]
  }
 ],
 "metadata": {
  "kernelspec": {
   "display_name": "Python 3",
   "language": "python",
   "name": "python3"
  },
  "language_info": {
   "codemirror_mode": {
    "name": "ipython",
    "version": 3
   },
   "file_extension": ".py",
   "mimetype": "text/x-python",
   "name": "python",
   "nbconvert_exporter": "python",
   "pygments_lexer": "ipython3",
   "version": "3.6.0"
  }
 },
 "nbformat": 4,
 "nbformat_minor": 2
}
